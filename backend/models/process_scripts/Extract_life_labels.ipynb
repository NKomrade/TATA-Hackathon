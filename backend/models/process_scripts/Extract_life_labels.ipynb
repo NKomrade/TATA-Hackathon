{
 "cells": [
  {
   "cell_type": "markdown",
   "metadata": {},
   "source": [
    "# README\n",
    "This notebook is designed to extract life labels from batteries. We observe that some batteries have degraded to 82.5% State of Health (SOH) but not below 80% SOH. In the [Battery-ML](https://github.com/microsoft/BatteryML), the cycle life labels for these batteries were originally labeled as `cycle_number + 1`, which can introduce significant intrinsic errors in the labels.\n",
    "\n",
    "To mitigate this issue, for batteries with an SOH between 82.5% and 80%, we use Linear Regression to estimate their life labels. Batteries with a minimum SOH no smaller than 82.5% are excluded from our datasets.\n",
    "\n",
    "Note: This notebook is not applicable to `SMICH`. The life labels of `SMICH` are obtained from the linear interpolation based on the small-current Rest Performance Tests."
   ]
  },
  {
   "cell_type": "code",
   "execution_count": null,
   "metadata": {},
   "outputs": [],
   "source": [
    "import pickle\n",
    "from sklearn.linear_model import LinearRegression\n",
    "import matplotlib.pyplot as plt\n",
    "import pandas as pd\n",
    "import numpy as np\n",
    "import json\n",
    "import os"
   ]
  },
  {
   "cell_type": "code",
   "execution_count": null,
   "metadata": {},
   "outputs": [],
   "source": [
    "dataset_name = 'total_MICH'\n",
    "dataset_root_path = '/data/trf/python_works/Battery-LLM/dataset'\n",
    "dataset_path = f'{dataset_root_path}/{dataset_name}'\n",
    "files = os.listdir(dataset_path)\n",
    "need_keys = ['current_in_A', 'voltage_in_V', 'charge_capacity_in_Ah', 'discharge_capacity_in_Ah', 'time_in_s']"
   ]
  },
  {
   "cell_type": "code",
   "execution_count": null,
   "metadata": {},
   "outputs": [
    {
     "name": "stdout",
     "output_type": "stream",
     "text": [
      "UL-PUR_N10-NA7_18650_NCA_23C_0-100_0.5-0.5C_g.pkl 159\n",
      "UL-PUR_N15-NA10_18650_NCA_23C_0-100_0.5-0.5C_j.pkl 259\n",
      "Totally 2 batteries have life labels | 0 batteries are excluded.\n",
      "Labels are saved in /data/trf/python_works/Battery-LLM/dataset/UL_PUR_labels.json\n"
     ]
    }
   ],
   "source": [
    "name_lables = {}\n",
    "abadon_count = 0\n",
    "for file_name in files:\n",
    "    data = pickle.load(open(f'{dataset_path}/{file_name}', 'rb'))\n",
    "    cycle_data = data['cycle_data']\n",
    "    last_cycle = cycle_data[-1]\n",
    "    if file_name.startswith('RWTH'):\n",
    "        nominal_capacity = 1.85\n",
    "    elif file_name.startswith('SNL_18650_NCA_25C_20-80'):\n",
    "        nominal_capacity = 3.2\n",
    "    else:\n",
    "        nominal_capacity = data['nominal_capacity_in_Ah']\n",
    "    SOC_interval = data['SOC_interval'] # get the charge and discharge soc interval\n",
    "    SOC_interval = SOC_interval[1] - SOC_interval[0]\n",
    "    last_cycle_soh = max(last_cycle['discharge_capacity_in_Ah']) / nominal_capacity / SOC_interval\n",
    "    if last_cycle_soh >= 0.825:\n",
    "        # [0.825, inf)\n",
    "        # exclude this cell from the dataset\n",
    "        abadon_count += 1\n",
    "        continue\n",
    "    elif last_cycle_soh > 0.8:\n",
    "        # (0.8, 0.825)\n",
    "        # Linear Regression based on the last 20 cycles to obtain the cycle life label\n",
    "        regress_cycle_num = 20\n",
    "        total_SOHs = []\n",
    "        total_cycle_numbers = np.array([i+1 for i in range(len(cycle_data)-regress_cycle_num, len(cycle_data))])\n",
    "        for correct_cycle_index, sub_cycle_data in enumerate(cycle_data[-regress_cycle_num:]):\n",
    "            Qd = max(sub_cycle_data['discharge_capacity_in_Ah'])\n",
    "            cycle_number = sub_cycle_data['cycle_number']\n",
    "            soh = Qd / nominal_capacity / SOC_interval\n",
    "            total_SOHs.append(soh)\n",
    "        \n",
    "        total_SOHs = np.array(total_SOHs).reshape(-1,1)\n",
    "        linear_regressor = LinearRegression()\n",
    "        linear_regressor.fit(total_SOHs, total_cycle_numbers)\n",
    "        eol = linear_regressor.predict(np.array([0.80]).reshape(-1,1))[0]\n",
    "        eol = int(eol)\n",
    "    else:\n",
    "        # (-inf, 0.8]\n",
    "        eol, find_eol = None, False\n",
    "        for correct_cycle_index, sub_cycle_data in enumerate(cycle_data):\n",
    "            Qd = max(sub_cycle_data['discharge_capacity_in_Ah'])\n",
    "            soh = Qd / nominal_capacity / SOC_interval\n",
    "            if soh <= 0.8 and not find_eol:\n",
    "                eol = correct_cycle_index + 1\n",
    "                find_eol = True\n",
    "                break\n",
    "        # if not find_eol:\n",
    "        #     # The end of life is not found in the battery\n",
    "        #     eol = len(cycle_data) + 1\n",
    "    name_lables[file_name] = eol\n",
    "    print(file_name, eol)\n",
    "\n",
    "print(f'Totally {len(name_lables)} batteries have life labels | {abadon_count} batteries are excluded.')\n",
    "print(f'Labels are saved in {dataset_root_path}/{dataset_name}_labels.json')\n",
    "if dataset_name == 'UL_PUR':\n",
    "    with open(f'{dataset_root_path}/UL-PUR_labels.json', 'w') as f:\n",
    "        json.dump(name_lables, f)\n",
    "elif dataset_name == 'ZN_coin':\n",
    "    with open(f'{dataset_root_path}/ZN-coin_labels.json', 'w') as f:\n",
    "        json.dump(name_lables, f)\n",
    "elif dataset_name == 'NA_coin':\n",
    "    with open(f'{dataset_root_path}/NA-coin_labels.json', 'w') as f:\n",
    "        json.dump(name_lables, f)\n",
    "else:\n",
    "    with open(f'{dataset_root_path}/{dataset_name}_labels.json', 'w') as f:\n",
    "        json.dump(name_lables, f)\n",
    "    \n",
    "    "
   ]
  }
 ],
 "metadata": {
  "kernelspec": {
   "display_name": "Python 3",
   "language": "python",
   "name": "python3"
  },
  "language_info": {
   "codemirror_mode": {
    "name": "ipython",
    "version": 3
   },
   "file_extension": ".py",
   "mimetype": "text/x-python",
   "name": "python",
   "nbconvert_exporter": "python",
   "pygments_lexer": "ipython3",
   "version": "3.11.9"
  }
 },
 "nbformat": 4,
 "nbformat_minor": 2
}
